{
 "cells": [
  {
   "cell_type": "code",
   "execution_count": 1,
   "id": "6838e937-efaf-4486-8df7-c77a7b256b7d",
   "metadata": {},
   "outputs": [
    {
     "name": "stdout",
     "output_type": "stream",
     "text": [
      "WARNING:tensorflow:From c:\\Users\\DC\\anaconda3\\envs\\facial_song\\lib\\site-packages\\tf_keras\\src\\losses.py:2976: The name tf.losses.sparse_softmax_cross_entropy is deprecated. Please use tf.compat.v1.losses.sparse_softmax_cross_entropy instead.\n",
      "\n"
     ]
    }
   ],
   "source": [
    "from deepface import DeepFace\n",
    "import pandas as pd\n",
    "import cv2\n",
    "import pandas as pd\n",
    "import matplotlib.pyplot as plt"
   ]
  },
  {
   "cell_type": "code",
   "execution_count": 2,
   "id": "4f3d5bcc-d11f-4c97-94e9-6f3c21b2c02f",
   "metadata": {},
   "outputs": [],
   "source": [
    "models = [\n",
    "  \"VGG-Face\", \n",
    "  \"Facenet\", \n",
    "  \"Facenet512\", \n",
    "  \"OpenFace\", \n",
    "  \"DeepFace\", \n",
    "  \"DeepID\", \n",
    "  \"ArcFace\", \n",
    "  \"Dlib\", \n",
    "  \"SFace\",\n",
    "  \"GhostFaceNet\"\n",
    "]"
   ]
  },
  {
   "cell_type": "code",
   "execution_count": null,
   "id": "9d348cbb-7744-4c86-b641-1e4268f96157",
   "metadata": {},
   "outputs": [],
   "source": [
    "# to put the bounding bo"
   ]
  },
  {
   "cell_type": "code",
   "execution_count": 7,
   "id": "16a088aa-7a4a-4a71-98c4-6e61739e5c6b",
   "metadata": {},
   "outputs": [],
   "source": [
    "def recognizerr(image_path):\n",
    "    #face recognition\n",
    "    print(image_path)\n",
    "    global lst_recognizer\n",
    "    dfs = DeepFace.find(\n",
    "      img_path = image_path,\n",
    "      db_path = \"D:/Elecon/face_recognition_attendance_system/sample_data/\", \n",
    "      model_name = models[6],\n",
    "      detector_backend=\"retinaface\",  # RetinaFace handles angled faces well\n",
    "      align=True,  # Enable face alignment\n",
    "      #enforce_detection=False ,  # This will skip face detection\n",
    "    )\n",
    "    # Assuming `dfs` contains the results from DeepFace.find()\n",
    "    # It's a list of DataFrames, with each DataFrame corresponding to a query image\n",
    "    \n",
    "    # Loop through each DataFrame in dfs\n",
    "    for df in dfs:\n",
    "        if df.empty:\n",
    "            print(\"No face recognized.\")\n",
    "        else:\n",
    "            print(\"Face recognized!\")\n",
    "            lst_recognizer.append(df)\n",
    "\n",
    "            \n",
    "            \n",
    "         "
   ]
  },
  {
   "cell_type": "code",
   "execution_count": 8,
   "id": "8544c736-2681-44d2-a232-ad514298c5cb",
   "metadata": {
    "scrolled": true
   },
   "outputs": [
    {
     "name": "stdout",
     "output_type": "stream",
     "text": [
      "Press 'C' to capture an image or 'Q' to quit.\n",
      "face number scanning  0\n",
      "D:/Elecon/face_recognition_attendance_system/sample_data/test.jpeg\n",
      "25-01-15 18:13:04 - Found 0 newly added image(s), 0 removed image(s), 1 replaced image(s).\n"
     ]
    },
    {
     "name": "stderr",
     "output_type": "stream",
     "text": [
      "Finding representations: 100%|██████████| 1/1 [00:02<00:00,  2.27s/it]\n"
     ]
    },
    {
     "name": "stdout",
     "output_type": "stream",
     "text": [
      "25-01-15 18:13:06 - There are now 52 representations in ds_model_arcface_detector_retinaface_aligned_normalization_base_expand_0.pkl\n",
      "25-01-15 18:13:06 - Searching D:/Elecon/face_recognition_attendance_system/sample_data/test.jpeg in 52 length datastore\n",
      "25-01-15 18:13:08 - find function duration 4.651898145675659 seconds\n",
      "Face recognized!\n",
      "face number scanning  0\n",
      "D:/Elecon/face_recognition_attendance_system/sample_data/test.jpeg\n",
      "25-01-15 18:13:27 - Found 0 newly added image(s), 0 removed image(s), 1 replaced image(s).\n"
     ]
    },
    {
     "name": "stderr",
     "output_type": "stream",
     "text": [
      "Finding representations: 100%|██████████| 1/1 [00:02<00:00,  2.16s/it]\n"
     ]
    },
    {
     "name": "stdout",
     "output_type": "stream",
     "text": [
      "25-01-15 18:13:29 - There are now 52 representations in ds_model_arcface_detector_retinaface_aligned_normalization_base_expand_0.pkl\n",
      "25-01-15 18:13:29 - Searching D:/Elecon/face_recognition_attendance_system/sample_data/test.jpeg in 52 length datastore\n",
      "25-01-15 18:13:31 - find function duration 4.4378509521484375 seconds\n",
      "Face recognized!\n",
      "face number scanning  0\n",
      "D:/Elecon/face_recognition_attendance_system/sample_data/test.jpeg\n",
      "25-01-15 18:13:37 - Found 0 newly added image(s), 0 removed image(s), 1 replaced image(s).\n"
     ]
    },
    {
     "name": "stderr",
     "output_type": "stream",
     "text": [
      "Finding representations: 100%|██████████| 1/1 [00:02<00:00,  2.16s/it]\n"
     ]
    },
    {
     "name": "stdout",
     "output_type": "stream",
     "text": [
      "25-01-15 18:13:39 - There are now 52 representations in ds_model_arcface_detector_retinaface_aligned_normalization_base_expand_0.pkl\n",
      "25-01-15 18:13:39 - Searching D:/Elecon/face_recognition_attendance_system/sample_data/test.jpeg in 52 length datastore\n",
      "25-01-15 18:13:41 - find function duration 4.474347114562988 seconds\n",
      "Face recognized!\n",
      "face number scanning  0\n",
      "D:/Elecon/face_recognition_attendance_system/sample_data/test.jpeg\n",
      "25-01-15 18:13:47 - Found 0 newly added image(s), 0 removed image(s), 1 replaced image(s).\n"
     ]
    },
    {
     "name": "stderr",
     "output_type": "stream",
     "text": [
      "Finding representations: 100%|██████████| 1/1 [00:02<00:00,  2.24s/it]\n"
     ]
    },
    {
     "name": "stdout",
     "output_type": "stream",
     "text": [
      "25-01-15 18:13:49 - There are now 52 representations in ds_model_arcface_detector_retinaface_aligned_normalization_base_expand_0.pkl\n",
      "25-01-15 18:13:49 - Searching D:/Elecon/face_recognition_attendance_system/sample_data/test.jpeg in 52 length datastore\n",
      "25-01-15 18:13:51 - find function duration 4.494693994522095 seconds\n",
      "Face recognized!\n",
      "face number scanning  0\n",
      "D:/Elecon/face_recognition_attendance_system/sample_data/test.jpeg\n",
      "25-01-15 18:14:03 - Found 0 newly added image(s), 0 removed image(s), 1 replaced image(s).\n"
     ]
    },
    {
     "name": "stderr",
     "output_type": "stream",
     "text": [
      "Finding representations: 100%|██████████| 1/1 [00:02<00:00,  2.19s/it]\n"
     ]
    },
    {
     "name": "stdout",
     "output_type": "stream",
     "text": [
      "25-01-15 18:14:05 - There are now 52 representations in ds_model_arcface_detector_retinaface_aligned_normalization_base_expand_0.pkl\n",
      "25-01-15 18:14:05 - Searching D:/Elecon/face_recognition_attendance_system/sample_data/test.jpeg in 52 length datastore\n",
      "25-01-15 18:14:07 - find function duration 4.643213272094727 seconds\n",
      "Face recognized!\n",
      "Exiting...\n"
     ]
    }
   ],
   "source": [
    "counter = 0\n",
    "\n",
    "lst_recognizer = []\n",
    "# Initialize the webcam (0 is usually the default camera)\n",
    "cap = cv2.VideoCapture(0)\n",
    "\n",
    "if not cap.isOpened():\n",
    "    print(\"Error: Could not open the webcam.\")\n",
    "    exit()\n",
    "\n",
    "print(\"Press 'C' to capture an image or 'Q' to quit.\")\n",
    "\n",
    "while True:\n",
    "    # Capture frame-by-frame\n",
    "    ret, frame = cap.read()\n",
    "    \n",
    "    if not ret:\n",
    "        print(\"Error: Could not read frame from webcam.\")\n",
    "        break\n",
    "        \n",
    "    # Display the resulting frame\n",
    "    cv2.imshow('Webcam', frame)\n",
    "\n",
    "    # Wait for a key press\n",
    "    key = cv2.waitKey(1) & 0xFF\n",
    "\n",
    "    if key == ord('c'):\n",
    "        cv2.imwrite(\"D:/Elecon/face_recognition_attendance_system/sample_data/test.jpeg\" , frame)\n",
    "        print(\"face number scanning \" , counter)\n",
    "        \n",
    "        recognizerr(\"D:/Elecon/face_recognition_attendance_system/sample_data/test.jpeg\")\n",
    "    elif key == ord('q'):\n",
    "        print(\"Exiting...\")\n",
    "        break\n",
    "\n",
    "# Release the webcam and close all OpenCV windows\n",
    "cap.release()\n",
    "cv2.destroyAllWindows()"
   ]
  },
  {
   "cell_type": "code",
   "execution_count": 5,
   "id": "015a1d88-525b-403b-9ae9-9c003188e975",
   "metadata": {
    "scrolled": true
   },
   "outputs": [
    {
     "name": "stdout",
     "output_type": "stream",
     "text": [
      "[                                             identity  \\\n",
      "0   D:/Elecon/face_recognition_attendance_system/s...   \n",
      "1   D:/Elecon/face_recognition_attendance_system/s...   \n",
      "2   D:/Elecon/face_recognition_attendance_system/s...   \n",
      "3   D:/Elecon/face_recognition_attendance_system/s...   \n",
      "4   D:/Elecon/face_recognition_attendance_system/s...   \n",
      "5   D:/Elecon/face_recognition_attendance_system/s...   \n",
      "6   D:/Elecon/face_recognition_attendance_system/s...   \n",
      "7   D:/Elecon/face_recognition_attendance_system/s...   \n",
      "8   D:/Elecon/face_recognition_attendance_system/s...   \n",
      "9   D:/Elecon/face_recognition_attendance_system/s...   \n",
      "10  D:/Elecon/face_recognition_attendance_system/s...   \n",
      "11  D:/Elecon/face_recognition_attendance_system/s...   \n",
      "12  D:/Elecon/face_recognition_attendance_system/s...   \n",
      "13  D:/Elecon/face_recognition_attendance_system/s...   \n",
      "14  D:/Elecon/face_recognition_attendance_system/s...   \n",
      "15  D:/Elecon/face_recognition_attendance_system/s...   \n",
      "16  D:/Elecon/face_recognition_attendance_system/s...   \n",
      "17  D:/Elecon/face_recognition_attendance_system/s...   \n",
      "18  D:/Elecon/face_recognition_attendance_system/s...   \n",
      "19  D:/Elecon/face_recognition_attendance_system/s...   \n",
      "20  D:/Elecon/face_recognition_attendance_system/s...   \n",
      "21  D:/Elecon/face_recognition_attendance_system/s...   \n",
      "22  D:/Elecon/face_recognition_attendance_system/s...   \n",
      "23  D:/Elecon/face_recognition_attendance_system/s...   \n",
      "24  D:/Elecon/face_recognition_attendance_system/s...   \n",
      "25  D:/Elecon/face_recognition_attendance_system/s...   \n",
      "26  D:/Elecon/face_recognition_attendance_system/s...   \n",
      "27  D:/Elecon/face_recognition_attendance_system/s...   \n",
      "28  D:/Elecon/face_recognition_attendance_system/s...   \n",
      "29  D:/Elecon/face_recognition_attendance_system/s...   \n",
      "30  D:/Elecon/face_recognition_attendance_system/s...   \n",
      "31  D:/Elecon/face_recognition_attendance_system/s...   \n",
      "32  D:/Elecon/face_recognition_attendance_system/s...   \n",
      "33  D:/Elecon/face_recognition_attendance_system/s...   \n",
      "34  D:/Elecon/face_recognition_attendance_system/s...   \n",
      "35  D:/Elecon/face_recognition_attendance_system/s...   \n",
      "36  D:/Elecon/face_recognition_attendance_system/s...   \n",
      "37  D:/Elecon/face_recognition_attendance_system/s...   \n",
      "38  D:/Elecon/face_recognition_attendance_system/s...   \n",
      "39  D:/Elecon/face_recognition_attendance_system/s...   \n",
      "40  D:/Elecon/face_recognition_attendance_system/s...   \n",
      "41  D:/Elecon/face_recognition_attendance_system/s...   \n",
      "\n",
      "                                        hash  target_x  target_y  target_w  \\\n",
      "0   0c062318ab2f13f2d431341110d6ec29bc8667ce       264       101       114   \n",
      "1   7759aaeafb422b54d23be7d1da73fd2fdff2b64f       262       246       104   \n",
      "2   12422e4b1130c05064b222579df87c7d145748c2       239       203       139   \n",
      "3   5daf1723e49c3e8010e8437b0cace93627653391       236       192       136   \n",
      "4   bffcac775c8e04d253b9c7df39f4ed2347b89f95       262       194       131   \n",
      "5   cbe6d50c8b9fbf4836d5562a84d87b6db8343d25       343       165       101   \n",
      "6   b7bf7ec347a3018b4d8aff58e21f1a2856ac0dee       343       160       103   \n",
      "7   ef47563f7f117c81f859630e8dcafc292a8311df       279       216        68   \n",
      "8   5fecbe9e52b7ea133ac279b6f3aea2967d637c65       194       204       128   \n",
      "9   1613861d91f2c865a92d7ec1512996d191826aa9       341       161       105   \n",
      "10  77d931551f8a63e2c4879761eb951c7316126b47       242       224       141   \n",
      "11  b634f79816ef688cfd5c19f5a470fbed2d851788       249       254        99   \n",
      "12  bcf44a5b55e95a04fc49bbb42f8a01c07353e32b       324       208        72   \n",
      "13  1807f9d236ac0223fb5b92084cbc6969268111a5       283       181        88   \n",
      "14  66a42b5a676aa01d7cb2241ea3b8738033bf62c6       330       179        91   \n",
      "15  edc048f02dc697dcda201b6c2cdc825f1e2da185       311       178        86   \n",
      "16  ce884dba76d2c12efede7c5fcf653f3967edb1fa       233       261        94   \n",
      "17  693cd7fda213b648ad5f87a4338fd9f4f0413b8a       242       188        78   \n",
      "18  e66fd75bdd115436c3cb69ca7d9c33e10bf46de7       272       235        50   \n",
      "19  0655df338f44d5b55de5b81a1b288b62ef979da6       264       254        42   \n",
      "20  8bd60ce3effc5c77e27ddc8bd48f0521b887697e       206       191        78   \n",
      "21  3d5d242ba99372f2eb059aa2f09cafa420451ca9       220       197       130   \n",
      "22  8ff5a684b37fedd8dd7d28f5dad7c6a13f4f3f94       302       237        51   \n",
      "23  06be499642f204447d553336ebd5697e15f2e07d       279       228        55   \n",
      "24  0e47a1e0e957935a4c28a359d1294a178b7e5332       226       204        69   \n",
      "25  b07e06e0b13eb4180e0da03bdabe3ed4f6fe6127       271       240        49   \n",
      "26  6fc6d6e4905b4158a03738406e019df4d7ce54ef       304       257        42   \n",
      "27  164385a5b152405b34b1aa0ddf9129e98f0bad72       328       229        56   \n",
      "28  ced93ff34c6a8ba20193ac51186e2a91d950e8a0       297       244        49   \n",
      "29  00e16083face2290763247dad9089b5466cd0be6       291       227        56   \n",
      "30  c5211fdde00f2e2dc4b41efe0981ddaecc950e8d       251       228        53   \n",
      "31  cfabbd32cea26ef8507da9940d766483ea550a0b       318       190        80   \n",
      "32  993a5adf82fca8acf58c79070ddd3d6f5ba45a96       257       220        61   \n",
      "33  eee4e9d0398d544d8039a05a4cd94033184ab8c3       276       243        46   \n",
      "34  a0270626abd21cf3b15d92af8214a213286703d2       264       194        81   \n",
      "35  2a7a0f514c2868d5c783a8202386b8f090f46938       309       201        67   \n",
      "36  392731b56c75e6debff29c95277bec495a7783fb       203       234        94   \n",
      "37  5f32370237cb0125536b6aa0a00d18278a6993a5       192       201       109   \n",
      "38  8518bbdc0038f86220812da299bba4fc89c39545       192       201       109   \n",
      "39  9532e368c00d2e42e8d55377a1103e7abc0e0487       260       246        42   \n",
      "40  3188fb5bb725cf1056a6c251152cb8a6b24243c2       218       265        84   \n",
      "41  a304a71485edc6a1d6868c0fc10718892c6b7933       304       182        80   \n",
      "\n",
      "    target_h  source_x  source_y  source_w  source_h  threshold      distance  \n",
      "0        142       264       101       114       142       0.68  1.110223e-16  \n",
      "1        133       264       101       114       142       0.68  2.911688e-01  \n",
      "2        180       264       101       114       142       0.68  3.606808e-01  \n",
      "3        171       264       101       114       142       0.68  4.141501e-01  \n",
      "4        168       264       101       114       142       0.68  4.185943e-01  \n",
      "5        129       264       101       114       142       0.68  4.343103e-01  \n",
      "6        137       264       101       114       142       0.68  4.399638e-01  \n",
      "7         85       264       101       114       142       0.68  4.415959e-01  \n",
      "8        173       264       101       114       142       0.68  4.417015e-01  \n",
      "9        136       264       101       114       142       0.68  4.487210e-01  \n",
      "10       180       264       101       114       142       0.68  4.531771e-01  \n",
      "11       127       264       101       114       142       0.68  4.594150e-01  \n",
      "12        89       264       101       114       142       0.68  4.605296e-01  \n",
      "13       115       264       101       114       142       0.68  4.734239e-01  \n",
      "14       113       264       101       114       142       0.68  4.773183e-01  \n",
      "15       111       264       101       114       142       0.68  4.783501e-01  \n",
      "16       130       264       101       114       142       0.68  4.810158e-01  \n",
      "17       107       264       101       114       142       0.68  4.859176e-01  \n",
      "18        66       264       101       114       142       0.68  4.910659e-01  \n",
      "19        55       264       101       114       142       0.68  4.970964e-01  \n",
      "20       102       264       101       114       142       0.68  4.982764e-01  \n",
      "21       172       264       101       114       142       0.68  5.002506e-01  \n",
      "22        67       264       101       114       142       0.68  5.003711e-01  \n",
      "23        71       264       101       114       142       0.68  5.034163e-01  \n",
      "24        91       264       101       114       142       0.68  5.100023e-01  \n",
      "25        62       264       101       114       142       0.68  5.139575e-01  \n",
      "26        53       264       101       114       142       0.68  5.153037e-01  \n",
      "27        71       264       101       114       142       0.68  5.161418e-01  \n",
      "28        62       264       101       114       142       0.68  5.339986e-01  \n",
      "29        72       264       101       114       142       0.68  5.392844e-01  \n",
      "30        72       264       101       114       142       0.68  5.463688e-01  \n",
      "31       102       264       101       114       142       0.68  5.514877e-01  \n",
      "32        77       264       101       114       142       0.68  5.517014e-01  \n",
      "33        61       264       101       114       142       0.68  5.535225e-01  \n",
      "34       106       264       101       114       142       0.68  5.614154e-01  \n",
      "35        93       264       101       114       142       0.68  5.838320e-01  \n",
      "36       140       264       101       114       142       0.68  5.853560e-01  \n",
      "37       167       264       101       114       142       0.68  5.906384e-01  \n",
      "38       167       264       101       114       142       0.68  5.906384e-01  \n",
      "39        54       264       101       114       142       0.68  6.077498e-01  \n",
      "40       131       264       101       114       142       0.68  6.308794e-01  \n",
      "41       107       264       101       114       142       0.68  6.777356e-01  ]\n"
     ]
    }
   ],
   "source": [
    "print(lst_recognizer)"
   ]
  },
  {
   "cell_type": "code",
   "execution_count": null,
   "id": "4e6bf520-2ce4-46ab-8159-0197b0009f84",
   "metadata": {
    "scrolled": true
   },
   "outputs": [
    {
     "name": "stdout",
     "output_type": "stream",
     "text": [
      "Error: Could not open the webcam.\n",
      "Press 'C' to capture an image or 'Q' to quit.\n",
      "Error: Could not read frame from webcam.\n"
     ]
    },
    {
     "ename": "",
     "evalue": "",
     "output_type": "error",
     "traceback": [
      "\u001b[1;31mThe Kernel crashed while executing code in the current cell or a previous cell. \n",
      "\u001b[1;31mPlease review the code in the cell(s) to identify a possible cause of the failure. \n",
      "\u001b[1;31mClick <a href='https://aka.ms/vscodeJupyterKernelCrash'>here</a> for more info. \n",
      "\u001b[1;31mView Jupyter <a href='command:jupyter.viewOutput'>log</a> for further details."
     ]
    }
   ],
   "source": [
    "import cv2\n",
    "import datetime\n",
    "\n",
    "# Initialize the webcam (0 is usually the default camera)\n",
    "cap = cv2.VideoCapture(1)\n",
    "\n",
    "if not cap.isOpened():\n",
    "    print(\"Error: Could not open the webcam.\")\n",
    "    exit()\n",
    "\n",
    "print(\"Press 'C' to capture an image or 'Q' to quit.\")\n",
    "\n",
    "while True:\n",
    "    # Capture frame-by-frame\n",
    "    ret, frame = cap.read()\n",
    "    \n",
    "    if not ret:\n",
    "        print(\"Error: Could not read frame from webcam.\")\n",
    "        break\n",
    "\n",
    "    # Display the resulting frame\n",
    "    cv2.imshow('Webcam', frame)\n",
    "\n",
    "    # Wait for a key press\n",
    "    key = cv2.waitKey(1) & 0xFF\n",
    "\n",
    "    if key == ord('c'):\n",
    "        # Generate a unique filename using the current date and time\n",
    "        timestamp = datetime.datetime.now().strftime('%Y%m%d_%H%M%S')\n",
    "        filename = f'./face_recognition_attendance_system/sample_data/new_Ronak/captured_image_{timestamp}.jpg'\n",
    "        \n",
    "        # Save the captured image\n",
    "        cv2.imwrite(filename, frame)\n",
    "        print(f\"Image captured and saved as '{filename}'.\")\n",
    "\n",
    "    elif key == ord('q'):\n",
    "        print(\"Exiting...\")\n",
    "        break\n",
    "\n",
    "# Release the webcam and close all OpenCV windows\n",
    "cap.release()\n",
    "cv2.destroyAllWindows()\n"
   ]
  },
  {
   "cell_type": "code",
   "execution_count": 2,
   "id": "0ee0d350-fe2f-4853-a47c-22c4f761501a",
   "metadata": {},
   "outputs": [],
   "source": [
    "# capture the image at the interval of 0.5 second automatically"
   ]
  },
  {
   "cell_type": "code",
   "execution_count": 4,
   "id": "fd732e23-385e-4169-8c0c-4172c345f293",
   "metadata": {},
   "outputs": [
    {
     "name": "stdout",
     "output_type": "stream",
     "text": [
      "Image saved as ./sample_data/Diya/image_20250116_162017.jpg\n",
      "Image saved as ./sample_data/Diya/image_20250116_162018.jpg\n",
      "Image saved as ./sample_data/Diya/image_20250116_162019.jpg\n",
      "Image saved as ./sample_data/Diya/image_20250116_162021.jpg\n",
      "Image saved as ./sample_data/Diya/image_20250116_162022.jpg\n",
      "Image saved as ./sample_data/Diya/image_20250116_162023.jpg\n",
      "Image saved as ./sample_data/Diya/image_20250116_162024.jpg\n",
      "Image saved as ./sample_data/Diya/image_20250116_162025.jpg\n",
      "Image saved as ./sample_data/Diya/image_20250116_162026.jpg\n",
      "Image saved as ./sample_data/Diya/image_20250116_162027.jpg\n",
      "Image saved as ./sample_data/Diya/image_20250116_162028.jpg\n",
      "Image saved as ./sample_data/Diya/image_20250116_162029.jpg\n",
      "Image saved as ./sample_data/Diya/image_20250116_162030.jpg\n",
      "Image saved as ./sample_data/Diya/image_20250116_162031.jpg\n",
      "Image saved as ./sample_data/Diya/image_20250116_162032.jpg\n",
      "Image saved as ./sample_data/Diya/image_20250116_162033.jpg\n",
      "Image saved as ./sample_data/Diya/image_20250116_162034.jpg\n",
      "Image saved as ./sample_data/Diya/image_20250116_162035.jpg\n",
      "Image saved as ./sample_data/Diya/image_20250116_162036.jpg\n",
      "Image saved as ./sample_data/Diya/image_20250116_162037.jpg\n",
      "Image saved as ./sample_data/Diya/image_20250116_162038.jpg\n",
      "Image saved as ./sample_data/Diya/image_20250116_162039.jpg\n",
      "Image saved as ./sample_data/Diya/image_20250116_162040.jpg\n",
      "Image saved as ./sample_data/Diya/image_20250116_162041.jpg\n",
      "Image saved as ./sample_data/Diya/image_20250116_162043.jpg\n",
      "Image saved as ./sample_data/Diya/image_20250116_162044.jpg\n",
      "Image saved as ./sample_data/Diya/image_20250116_162045.jpg\n",
      "Image saved as ./sample_data/Diya/image_20250116_162046.jpg\n",
      "Image saved as ./sample_data/Diya/image_20250116_162047.jpg\n",
      "Image saved as ./sample_data/Diya/image_20250116_162048.jpg\n",
      "Image saved as ./sample_data/Diya/image_20250116_162049.jpg\n",
      "Image saved as ./sample_data/Diya/image_20250116_162050.jpg\n",
      "Image saved as ./sample_data/Diya/image_20250116_162051.jpg\n",
      "Image saved as ./sample_data/Diya/image_20250116_162052.jpg\n"
     ]
    }
   ],
   "source": [
    "import cv2\n",
    "import time\n",
    "import os\n",
    "\n",
    "# Create a directory to store the captured images\n",
    "output_dir = './sample_data/Diya'\n",
    "if not os.path.exists(output_dir):\n",
    "    os.makedirs(output_dir)\n",
    "\n",
    "# Initialize the webcam (0 is usually the default webcam)\n",
    "cap = cv2.VideoCapture(0)\n",
    "\n",
    "# Check if the webcam is opened successfully\n",
    "if not cap.isOpened():\n",
    "    print(\"Error: Could not open webcam.\")\n",
    "    exit()\n",
    "\n",
    "# Set the interval for capturing images in seconds\n",
    "interval = 0.5  # Interval of 0.5 seconds\n",
    "\n",
    "# Start capturing images\n",
    "image_count = 0\n",
    "while True:\n",
    "    # Read a frame from the webcam\n",
    "    ret, frame = cap.read()\n",
    "    \n",
    "    if not ret:\n",
    "        print(\"Error: Failed to capture image.\")\n",
    "        break\n",
    "\n",
    "    # Display the frame in a window (optional)\n",
    "    cv2.imshow('Webcam', frame)\n",
    "\n",
    "    # Save the captured frame as an image every 0.5 seconds\n",
    "    if image_count % int(1 / interval) == 0:\n",
    "        timestamp = time.strftime(\"%Y%m%d_%H%M%S\")\n",
    "        image_name = f\"{output_dir}/image_{timestamp}.jpg\"\n",
    "        cv2.imwrite(image_name, frame)\n",
    "        print(f\"Image saved as {image_name}\")\n",
    "    \n",
    "    image_count += 1\n",
    "\n",
    "    # Wait for the specified interval before capturing the next image\n",
    "    time.sleep(interval)\n",
    "\n",
    "    # Break the loop when 'q' is pressed\n",
    "    if cv2.waitKey(1) & 0xFF == ord('q'):\n",
    "        break\n",
    "\n",
    "# Release the webcam and close the display window\n",
    "cap.release()\n",
    "cv2.destroyAllWindows()\n"
   ]
  },
  {
   "cell_type": "code",
   "execution_count": null,
   "id": "7ea69786-3ad3-48f7-972d-6282d81f903a",
   "metadata": {},
   "outputs": [],
   "source": []
  },
  {
   "cell_type": "code",
   "execution_count": null,
   "id": "ebfda7d0-3878-4d37-913f-31f5ba785d2e",
   "metadata": {},
   "outputs": [],
   "source": []
  }
 ],
 "metadata": {
  "kernelspec": {
   "display_name": "facial_song",
   "language": "python",
   "name": "python3"
  },
  "language_info": {
   "codemirror_mode": {
    "name": "ipython",
    "version": 3
   },
   "file_extension": ".py",
   "mimetype": "text/x-python",
   "name": "python",
   "nbconvert_exporter": "python",
   "pygments_lexer": "ipython3",
   "version": "3.9.20"
  }
 },
 "nbformat": 4,
 "nbformat_minor": 5
}
